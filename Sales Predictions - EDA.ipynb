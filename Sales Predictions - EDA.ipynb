{
 "cells": [
  {
   "cell_type": "markdown",
   "id": "08471088",
   "metadata": {},
   "source": [
    "# Sales Predictions - EDA"
   ]
  },
  {
   "cell_type": "markdown",
   "id": "91086fef",
   "metadata": {},
   "source": [
    "## Imports"
   ]
  },
  {
   "cell_type": "code",
   "execution_count": 3,
   "id": "0958ff6a",
   "metadata": {},
   "outputs": [],
   "source": [
    "#Import libraries\n",
    "import pandas as pd\n",
    "import numpy as np\n",
    "import matplotlib.pyplot as plt\n",
    "import seaborn as sns"
   ]
  },
  {
   "cell_type": "markdown",
   "id": "2dc9db7d",
   "metadata": {},
   "source": [
    "## Custom Functions"
   ]
  },
  {
   "cell_type": "code",
   "execution_count": 4,
   "id": "cd76991b",
   "metadata": {},
   "outputs": [],
   "source": [
    "#Univariate plots for EDA\n",
    "def explore_categorical(df, x, fillna = True, placeholder = 'MISSING',\n",
    "                        figsize = (6,4), order = None):\n",
    "  \"\"\"Creates a seaborn countplot with the option to temporarily fill missing values\n",
    "  Prints statements about null values, cardinality, and checks for\n",
    "  constant/quasi-constant features.\n",
    "  Source:{PASTE IN FINAL LESSON LINK}\n",
    "  \"\"\"\n",
    "  # Make a copy of the dataframe and fillna\n",
    "  temp_df = df.copy()\n",
    "  # Before filling nulls, save null value counts and percent for printing\n",
    "  null_count = temp_df[x].isna().sum()\n",
    "  null_perc = null_count/len(temp_df)* 100\n",
    "  # fillna with placeholder\n",
    "  if fillna == True:\n",
    "    temp_df[x] = temp_df[x].fillna(placeholder)\n",
    "  # Create figure with desired figsize\n",
    "  fig, ax = plt.subplots(figsize=figsize)\n",
    "  # Plotting a count plot\n",
    "  sns.countplot(data=temp_df, x=x, ax=ax, order=order)\n",
    "  # Rotate Tick Labels for long names\n",
    "  ax.set_xticklabels(ax.get_xticklabels(), rotation=45, ha='right')\n",
    "  # Add a title with the feature name included\n",
    "  ax.set_title(f\"Column: {x}\", fontweight='bold')\n",
    "\n",
    "  # Fix layout and show plot (before print statements)\n",
    "  fig.tight_layout()\n",
    "  plt.show()\n",
    "\n",
    "  # Print null value info\n",
    "  print(f\"- NaN's Found: {null_count} ({round(null_perc,2)}%)\")\n",
    "  # Print cardinality info\n",
    "  nunique = temp_df[x].nunique()\n",
    "  print(f\"- Unique Values: {nunique}\")\n",
    "\n",
    "  # First find value counts of feature\n",
    "  val_counts = temp_df[x].value_counts(dropna=False)\n",
    "  # Define the most common value\n",
    "  most_common_val = val_counts.index[0]\n",
    "  # Define the frequency of the most common value\n",
    "  freq = val_counts.values[0]\n",
    "  # Calculate the percentage of the most common value\n",
    "  perc_most_common = freq / len(temp_df) * 100\n",
    "\n",
    "  # Print the results\n",
    "  print(f\"- Most common value: '{most_common_val}' occurs {freq} times ({round(perc_most_common,2)}%)\")\n",
    "  # print message if quasi-constant or constant (most common val more than 98% of data)\n",
    "  if perc_most_common > 98:\n",
    "    print(f\"\\n- [!] Warning: '{x}' is a constant or quasi-constant feature and should be dropped.\")\n",
    "  else:\n",
    "    print(\"- Not constant or quasi-constant.\")\n",
    "  return fig, ax\n",
    "\n",
    "\n",
    "def explore_numeric(df, x, figsize=(6,5) ):\n",
    "  \"\"\"Creates a seaborn histplot and boxplot with a share x-axis,\n",
    "  Prints statements about null values, cardinality, and checks for\n",
    "  constant/quasi-constant features.\n",
    "  Source:{PASTE IN FINAL LESSON LINK}\n",
    "  \"\"\"\n",
    "\n",
    "  ## Save null value counts and percent for printing\n",
    "  null_count = df[x].isna().sum()\n",
    "  null_perc = null_count/len(df)* 100\n",
    "\n",
    "\n",
    "  ## Making our figure with gridspec for subplots\n",
    "  gridspec = {'height_ratios':[0.7,0.3]}\n",
    "  fig, axes = plt.subplots(nrows=2, figsize=figsize,\n",
    "                           sharex=True, gridspec_kw=gridspec)\n",
    "  # Histogram on Top\n",
    "  sns.histplot(data=df, x=x, ax=axes[0])\n",
    "\n",
    "  # Boxplot on Bottom\n",
    "  sns.boxplot(data=df, x=x, ax=axes[1])\n",
    "\n",
    "  ## Adding a title\n",
    "  axes[0].set_title(f\"Column: {x}\", fontweight='bold')\n",
    "\n",
    "  ## Adjusting subplots to best fill Figure\n",
    "  fig.tight_layout()\n",
    "\n",
    "  # Ensure plot is shown before message\n",
    "  plt.show()\n",
    "\n",
    "\n",
    "  # Print null value info\n",
    "  print(f\"- NaN's Found: {null_count} ({round(null_perc,2)}%)\")\n",
    "  # Print cardinality info\n",
    "  nunique = df[x].nunique()\n",
    "  print(f\"- Unique Values: {nunique}\")\n",
    "\n",
    "\n",
    "  # Get the most most common value, its count as # and as %\n",
    "  most_common_val_count = df[x].value_counts(dropna=False).head(1)\n",
    "  most_common_val = most_common_val_count.index[0]\n",
    "  freq = most_common_val_count.values[0]\n",
    "  perc_most_common = freq / len(df) * 100\n",
    "\n",
    "  print(f\"- Most common value: '{most_common_val}' occurs {freq} times ({round(perc_most_common,2)}%)\")\n",
    "\n",
    "  # print message if quasi-constant or constant (most common val more than 98% of data)\n",
    "  if perc_most_common > 98:\n",
    "    print(f\"\\n- [!] Warning: '{x}' is a constant or quasi-constant feature and should be dropped.\")\n",
    "  else:\n",
    "    print(\"- Not constant or quasi-constant.\")\n",
    "  return fig, axes"
   ]
  },
  {
   "cell_type": "code",
   "execution_count": 5,
   "id": "0fbadb68",
   "metadata": {},
   "outputs": [],
   "source": [
    "#Multivariate plots for EDA\n",
    "def plot_categorical_vs_target(df, x, y='Item_Outlet_Sales',figsize=(6,4),\n",
    "                            fillna = True, placeholder = 'MISSING',\n",
    "                            order = None):\n",
    "  \"\"\"Plots a combination of a seaborn barplot of means combined with\n",
    "  a seaborn stripplot to show the spread of the data.\n",
    "  Source:{PASTE IN FINAL LESSON LINK}\n",
    "  \"\"\"\n",
    "  # Make a copy of the dataframe and fillna\n",
    "  temp_df = df.copy()\n",
    "  # fillna with placeholder\n",
    "  if fillna == True:\n",
    "    temp_df[x] = temp_df[x].fillna(placeholder)\n",
    "\n",
    "  # or drop nulls prevent unwanted 'nan' group in stripplot\n",
    "  else:\n",
    "    temp_df = temp_df.dropna(subset=[x])\n",
    "  # Create the figure and subplots\n",
    "  fig, ax = plt.subplots(figsize=figsize)\n",
    "\n",
    "    # Barplot\n",
    "  sns.barplot(data=temp_df, x=x, y=y, ax=ax, order=order, alpha=0.6,\n",
    "              linewidth=1, edgecolor='black', errorbar=None)\n",
    "\n",
    "  # Boxplot\n",
    "  sns.stripplot(data=temp_df, x=x, y=y, hue=x, ax=ax,\n",
    "                order=order, hue_order=order, legend=False,\n",
    "                edgecolor='white', linewidth=0.5,\n",
    "                size=3,zorder=0)\n",
    "  # Rotate xlabels\n",
    "  ax.set_xticklabels(ax.get_xticklabels(), rotation=45, ha='right')\n",
    "\n",
    "  # Add a title\n",
    "  ax.set_title(f\"{x} vs. {y}\", fontweight='bold')\n",
    "  fig.tight_layout()\n",
    "  return fig, ax\n",
    "\n",
    "\n",
    "def plot_numeric_vs_target(df, x, y='Item_Outlet_Sales',\n",
    "                           figsize=(6,4)):\n",
    "  \"\"\"Plots a seaborn regplot with Pearson's correlation (r) added\n",
    "  to the title.\n",
    "  Source:{PASTE IN FINAL LESSON LINK}\n",
    "  \"\"\"\n",
    "  # Calculate the correlation\n",
    "  corr = df[[x,y]].corr().round(2)\n",
    "  r = corr.loc[x,y]\n",
    "\n",
    "  # Plot the data\n",
    "  fig, ax = plt.subplots(figsize=figsize)\n",
    "  scatter_kws={'ec':'white','lw':1,'alpha':0.8}\n",
    "  sns.regplot(data=df, x=x, y=y, ax=ax, scatter_kws=scatter_kws)\n",
    "\n",
    "  ## Add the title with the correlation\n",
    "  ax.set_title(f\"{x} vs. {y} (r = {r})\", fontweight='bold')\n",
    "\n",
    "  # Make sure the plot is shown before the print statement\n",
    "  plt.show()\n",
    "\n",
    "  return fig, ax"
   ]
  },
  {
   "cell_type": "markdown",
   "id": "9a8ee386",
   "metadata": {},
   "source": [
    "## Load Data"
   ]
  },
  {
   "cell_type": "code",
   "execution_count": 6,
   "id": "77d0016c",
   "metadata": {},
   "outputs": [],
   "source": [
    "#Load in csv data\n",
    "df = pd.read_csv('Data/sales_predictions_2023.csv')"
   ]
  },
  {
   "cell_type": "code",
   "execution_count": 7,
   "id": "90a39497",
   "metadata": {},
   "outputs": [
    {
     "data": {
      "text/html": [
       "<div>\n",
       "<style scoped>\n",
       "    .dataframe tbody tr th:only-of-type {\n",
       "        vertical-align: middle;\n",
       "    }\n",
       "\n",
       "    .dataframe tbody tr th {\n",
       "        vertical-align: top;\n",
       "    }\n",
       "\n",
       "    .dataframe thead th {\n",
       "        text-align: right;\n",
       "    }\n",
       "</style>\n",
       "<table border=\"1\" class=\"dataframe\">\n",
       "  <thead>\n",
       "    <tr style=\"text-align: right;\">\n",
       "      <th></th>\n",
       "      <th>Item_Identifier</th>\n",
       "      <th>Item_Weight</th>\n",
       "      <th>Item_Fat_Content</th>\n",
       "      <th>Item_Visibility</th>\n",
       "      <th>Item_Type</th>\n",
       "      <th>Item_MRP</th>\n",
       "      <th>Outlet_Identifier</th>\n",
       "      <th>Outlet_Establishment_Year</th>\n",
       "      <th>Outlet_Size</th>\n",
       "      <th>Outlet_Location_Type</th>\n",
       "      <th>Outlet_Type</th>\n",
       "      <th>Item_Outlet_Sales</th>\n",
       "    </tr>\n",
       "  </thead>\n",
       "  <tbody>\n",
       "    <tr>\n",
       "      <th>0</th>\n",
       "      <td>FDA15</td>\n",
       "      <td>9.30</td>\n",
       "      <td>Low Fat</td>\n",
       "      <td>0.016047</td>\n",
       "      <td>Dairy</td>\n",
       "      <td>249.8092</td>\n",
       "      <td>OUT049</td>\n",
       "      <td>1999</td>\n",
       "      <td>Medium</td>\n",
       "      <td>Tier 1</td>\n",
       "      <td>Supermarket Type1</td>\n",
       "      <td>3735.1380</td>\n",
       "    </tr>\n",
       "    <tr>\n",
       "      <th>1</th>\n",
       "      <td>DRC01</td>\n",
       "      <td>5.92</td>\n",
       "      <td>Regular</td>\n",
       "      <td>0.019278</td>\n",
       "      <td>Soft Drinks</td>\n",
       "      <td>48.2692</td>\n",
       "      <td>OUT018</td>\n",
       "      <td>2009</td>\n",
       "      <td>Medium</td>\n",
       "      <td>Tier 3</td>\n",
       "      <td>Supermarket Type2</td>\n",
       "      <td>443.4228</td>\n",
       "    </tr>\n",
       "    <tr>\n",
       "      <th>2</th>\n",
       "      <td>FDN15</td>\n",
       "      <td>17.50</td>\n",
       "      <td>Low Fat</td>\n",
       "      <td>0.016760</td>\n",
       "      <td>Meat</td>\n",
       "      <td>141.6180</td>\n",
       "      <td>OUT049</td>\n",
       "      <td>1999</td>\n",
       "      <td>Medium</td>\n",
       "      <td>Tier 1</td>\n",
       "      <td>Supermarket Type1</td>\n",
       "      <td>2097.2700</td>\n",
       "    </tr>\n",
       "    <tr>\n",
       "      <th>3</th>\n",
       "      <td>FDX07</td>\n",
       "      <td>19.20</td>\n",
       "      <td>Regular</td>\n",
       "      <td>0.000000</td>\n",
       "      <td>Fruits and Vegetables</td>\n",
       "      <td>182.0950</td>\n",
       "      <td>OUT010</td>\n",
       "      <td>1998</td>\n",
       "      <td>NaN</td>\n",
       "      <td>Tier 3</td>\n",
       "      <td>Grocery Store</td>\n",
       "      <td>732.3800</td>\n",
       "    </tr>\n",
       "    <tr>\n",
       "      <th>4</th>\n",
       "      <td>NCD19</td>\n",
       "      <td>8.93</td>\n",
       "      <td>Low Fat</td>\n",
       "      <td>0.000000</td>\n",
       "      <td>Household</td>\n",
       "      <td>53.8614</td>\n",
       "      <td>OUT013</td>\n",
       "      <td>1987</td>\n",
       "      <td>High</td>\n",
       "      <td>Tier 3</td>\n",
       "      <td>Supermarket Type1</td>\n",
       "      <td>994.7052</td>\n",
       "    </tr>\n",
       "  </tbody>\n",
       "</table>\n",
       "</div>"
      ],
      "text/plain": [
       "  Item_Identifier  Item_Weight Item_Fat_Content  Item_Visibility  \\\n",
       "0           FDA15         9.30          Low Fat         0.016047   \n",
       "1           DRC01         5.92          Regular         0.019278   \n",
       "2           FDN15        17.50          Low Fat         0.016760   \n",
       "3           FDX07        19.20          Regular         0.000000   \n",
       "4           NCD19         8.93          Low Fat         0.000000   \n",
       "\n",
       "               Item_Type  Item_MRP Outlet_Identifier  \\\n",
       "0                  Dairy  249.8092            OUT049   \n",
       "1            Soft Drinks   48.2692            OUT018   \n",
       "2                   Meat  141.6180            OUT049   \n",
       "3  Fruits and Vegetables  182.0950            OUT010   \n",
       "4              Household   53.8614            OUT013   \n",
       "\n",
       "   Outlet_Establishment_Year Outlet_Size Outlet_Location_Type  \\\n",
       "0                       1999      Medium               Tier 1   \n",
       "1                       2009      Medium               Tier 3   \n",
       "2                       1999      Medium               Tier 1   \n",
       "3                       1998         NaN               Tier 3   \n",
       "4                       1987        High               Tier 3   \n",
       "\n",
       "         Outlet_Type  Item_Outlet_Sales  \n",
       "0  Supermarket Type1          3735.1380  \n",
       "1  Supermarket Type2           443.4228  \n",
       "2  Supermarket Type1          2097.2700  \n",
       "3      Grocery Store           732.3800  \n",
       "4  Supermarket Type1           994.7052  "
      ]
     },
     "execution_count": 7,
     "metadata": {},
     "output_type": "execute_result"
    }
   ],
   "source": [
    "#Preview first 5 rows\n",
    "df.head()"
   ]
  },
  {
   "cell_type": "code",
   "execution_count": 8,
   "id": "4fd7f6ce",
   "metadata": {},
   "outputs": [
    {
     "name": "stdout",
     "output_type": "stream",
     "text": [
      "<class 'pandas.core.frame.DataFrame'>\n",
      "RangeIndex: 8523 entries, 0 to 8522\n",
      "Data columns (total 12 columns):\n",
      " #   Column                     Non-Null Count  Dtype  \n",
      "---  ------                     --------------  -----  \n",
      " 0   Item_Identifier            8523 non-null   object \n",
      " 1   Item_Weight                7060 non-null   float64\n",
      " 2   Item_Fat_Content           8523 non-null   object \n",
      " 3   Item_Visibility            8523 non-null   float64\n",
      " 4   Item_Type                  8523 non-null   object \n",
      " 5   Item_MRP                   8523 non-null   float64\n",
      " 6   Outlet_Identifier          8523 non-null   object \n",
      " 7   Outlet_Establishment_Year  8523 non-null   int64  \n",
      " 8   Outlet_Size                6113 non-null   object \n",
      " 9   Outlet_Location_Type       8523 non-null   object \n",
      " 10  Outlet_Type                8523 non-null   object \n",
      " 11  Item_Outlet_Sales          8523 non-null   float64\n",
      "dtypes: float64(4), int64(1), object(7)\n",
      "memory usage: 799.2+ KB\n"
     ]
    }
   ],
   "source": [
    "#Preview dataframe info\n",
    "df.info()"
   ]
  },
  {
   "cell_type": "code",
   "execution_count": 9,
   "id": "ad4e5822",
   "metadata": {},
   "outputs": [
    {
     "name": "stdout",
     "output_type": "stream",
     "text": [
      "There are 8523 rows and 12 columns.\n"
     ]
    }
   ],
   "source": [
    "#Describe df shape\n",
    "print(f'There are {df.shape[0]} rows and {df.shape[1]} columns.')"
   ]
  },
  {
   "cell_type": "code",
   "execution_count": 10,
   "id": "bf3a63bb",
   "metadata": {},
   "outputs": [
    {
     "data": {
      "text/html": [
       "<div>\n",
       "<style scoped>\n",
       "    .dataframe tbody tr th:only-of-type {\n",
       "        vertical-align: middle;\n",
       "    }\n",
       "\n",
       "    .dataframe tbody tr th {\n",
       "        vertical-align: top;\n",
       "    }\n",
       "\n",
       "    .dataframe thead th {\n",
       "        text-align: right;\n",
       "    }\n",
       "</style>\n",
       "<table border=\"1\" class=\"dataframe\">\n",
       "  <thead>\n",
       "    <tr style=\"text-align: right;\">\n",
       "      <th></th>\n",
       "      <th>Item_Weight</th>\n",
       "      <th>Item_Visibility</th>\n",
       "      <th>Item_MRP</th>\n",
       "      <th>Outlet_Establishment_Year</th>\n",
       "      <th>Item_Outlet_Sales</th>\n",
       "    </tr>\n",
       "  </thead>\n",
       "  <tbody>\n",
       "    <tr>\n",
       "      <th>count</th>\n",
       "      <td>7060.000000</td>\n",
       "      <td>8523.000000</td>\n",
       "      <td>8523.000000</td>\n",
       "      <td>8523.000000</td>\n",
       "      <td>8523.000000</td>\n",
       "    </tr>\n",
       "    <tr>\n",
       "      <th>mean</th>\n",
       "      <td>12.857645</td>\n",
       "      <td>0.066132</td>\n",
       "      <td>140.992782</td>\n",
       "      <td>1997.831867</td>\n",
       "      <td>2181.288914</td>\n",
       "    </tr>\n",
       "    <tr>\n",
       "      <th>std</th>\n",
       "      <td>4.643456</td>\n",
       "      <td>0.051598</td>\n",
       "      <td>62.275067</td>\n",
       "      <td>8.371760</td>\n",
       "      <td>1706.499616</td>\n",
       "    </tr>\n",
       "    <tr>\n",
       "      <th>min</th>\n",
       "      <td>4.555000</td>\n",
       "      <td>0.000000</td>\n",
       "      <td>31.290000</td>\n",
       "      <td>1985.000000</td>\n",
       "      <td>33.290000</td>\n",
       "    </tr>\n",
       "    <tr>\n",
       "      <th>25%</th>\n",
       "      <td>8.773750</td>\n",
       "      <td>0.026989</td>\n",
       "      <td>93.826500</td>\n",
       "      <td>1987.000000</td>\n",
       "      <td>834.247400</td>\n",
       "    </tr>\n",
       "    <tr>\n",
       "      <th>50%</th>\n",
       "      <td>12.600000</td>\n",
       "      <td>0.053931</td>\n",
       "      <td>143.012800</td>\n",
       "      <td>1999.000000</td>\n",
       "      <td>1794.331000</td>\n",
       "    </tr>\n",
       "    <tr>\n",
       "      <th>75%</th>\n",
       "      <td>16.850000</td>\n",
       "      <td>0.094585</td>\n",
       "      <td>185.643700</td>\n",
       "      <td>2004.000000</td>\n",
       "      <td>3101.296400</td>\n",
       "    </tr>\n",
       "    <tr>\n",
       "      <th>max</th>\n",
       "      <td>21.350000</td>\n",
       "      <td>0.328391</td>\n",
       "      <td>266.888400</td>\n",
       "      <td>2009.000000</td>\n",
       "      <td>13086.964800</td>\n",
       "    </tr>\n",
       "  </tbody>\n",
       "</table>\n",
       "</div>"
      ],
      "text/plain": [
       "       Item_Weight  Item_Visibility     Item_MRP  Outlet_Establishment_Year  \\\n",
       "count  7060.000000      8523.000000  8523.000000                8523.000000   \n",
       "mean     12.857645         0.066132   140.992782                1997.831867   \n",
       "std       4.643456         0.051598    62.275067                   8.371760   \n",
       "min       4.555000         0.000000    31.290000                1985.000000   \n",
       "25%       8.773750         0.026989    93.826500                1987.000000   \n",
       "50%      12.600000         0.053931   143.012800                1999.000000   \n",
       "75%      16.850000         0.094585   185.643700                2004.000000   \n",
       "max      21.350000         0.328391   266.888400                2009.000000   \n",
       "\n",
       "       Item_Outlet_Sales  \n",
       "count        8523.000000  \n",
       "mean         2181.288914  \n",
       "std          1706.499616  \n",
       "min            33.290000  \n",
       "25%           834.247400  \n",
       "50%          1794.331000  \n",
       "75%          3101.296400  \n",
       "max         13086.964800  "
      ]
     },
     "execution_count": 10,
     "metadata": {},
     "output_type": "execute_result"
    }
   ],
   "source": [
    "#Check summary statistics of numeric columns\n",
    "df.describe()"
   ]
  },
  {
   "cell_type": "code",
   "execution_count": 11,
   "id": "dc7f2044",
   "metadata": {},
   "outputs": [
    {
     "data": {
      "text/html": [
       "<div>\n",
       "<style scoped>\n",
       "    .dataframe tbody tr th:only-of-type {\n",
       "        vertical-align: middle;\n",
       "    }\n",
       "\n",
       "    .dataframe tbody tr th {\n",
       "        vertical-align: top;\n",
       "    }\n",
       "\n",
       "    .dataframe thead th {\n",
       "        text-align: right;\n",
       "    }\n",
       "</style>\n",
       "<table border=\"1\" class=\"dataframe\">\n",
       "  <thead>\n",
       "    <tr style=\"text-align: right;\">\n",
       "      <th></th>\n",
       "      <th>Item_Identifier</th>\n",
       "      <th>Item_Fat_Content</th>\n",
       "      <th>Item_Type</th>\n",
       "      <th>Outlet_Identifier</th>\n",
       "      <th>Outlet_Size</th>\n",
       "      <th>Outlet_Location_Type</th>\n",
       "      <th>Outlet_Type</th>\n",
       "    </tr>\n",
       "  </thead>\n",
       "  <tbody>\n",
       "    <tr>\n",
       "      <th>count</th>\n",
       "      <td>8523</td>\n",
       "      <td>8523</td>\n",
       "      <td>8523</td>\n",
       "      <td>8523</td>\n",
       "      <td>6113</td>\n",
       "      <td>8523</td>\n",
       "      <td>8523</td>\n",
       "    </tr>\n",
       "    <tr>\n",
       "      <th>unique</th>\n",
       "      <td>1559</td>\n",
       "      <td>5</td>\n",
       "      <td>16</td>\n",
       "      <td>10</td>\n",
       "      <td>3</td>\n",
       "      <td>3</td>\n",
       "      <td>4</td>\n",
       "    </tr>\n",
       "    <tr>\n",
       "      <th>top</th>\n",
       "      <td>FDW13</td>\n",
       "      <td>Low Fat</td>\n",
       "      <td>Fruits and Vegetables</td>\n",
       "      <td>OUT027</td>\n",
       "      <td>Medium</td>\n",
       "      <td>Tier 3</td>\n",
       "      <td>Supermarket Type1</td>\n",
       "    </tr>\n",
       "    <tr>\n",
       "      <th>freq</th>\n",
       "      <td>10</td>\n",
       "      <td>5089</td>\n",
       "      <td>1232</td>\n",
       "      <td>935</td>\n",
       "      <td>2793</td>\n",
       "      <td>3350</td>\n",
       "      <td>5577</td>\n",
       "    </tr>\n",
       "  </tbody>\n",
       "</table>\n",
       "</div>"
      ],
      "text/plain": [
       "       Item_Identifier Item_Fat_Content              Item_Type  \\\n",
       "count             8523             8523                   8523   \n",
       "unique            1559                5                     16   \n",
       "top              FDW13          Low Fat  Fruits and Vegetables   \n",
       "freq                10             5089                   1232   \n",
       "\n",
       "       Outlet_Identifier Outlet_Size Outlet_Location_Type        Outlet_Type  \n",
       "count               8523        6113                 8523               8523  \n",
       "unique                10           3                    3                  4  \n",
       "top               OUT027      Medium               Tier 3  Supermarket Type1  \n",
       "freq                 935        2793                 3350               5577  "
      ]
     },
     "execution_count": 11,
     "metadata": {},
     "output_type": "execute_result"
    }
   ],
   "source": [
    "#Check summary statistics of string columns\n",
    "df.describe(exclude = 'number')"
   ]
  },
  {
   "cell_type": "markdown",
   "id": "1310cd73",
   "metadata": {},
   "source": [
    "## Clean Data"
   ]
  },
  {
   "cell_type": "markdown",
   "id": "ee6888b5",
   "metadata": {},
   "source": [
    "### Remove Duplicates"
   ]
  },
  {
   "cell_type": "code",
   "execution_count": 13,
   "id": "78de5bca",
   "metadata": {},
   "outputs": [
    {
     "name": "stdout",
     "output_type": "stream",
     "text": [
      "There are 0 duplicates.\n"
     ]
    }
   ],
   "source": [
    "#Check for duplicate data\n",
    "print(f'There are {df.duplicated().sum()} duplicates.')"
   ]
  },
  {
   "cell_type": "markdown",
   "id": "497b2e02",
   "metadata": {},
   "source": [
    "- There are no duplicate values to remove."
   ]
  },
  {
   "cell_type": "markdown",
   "id": "b7c0433b",
   "metadata": {},
   "source": [
    "### Identify Missing Values"
   ]
  },
  {
   "cell_type": "code",
   "execution_count": 14,
   "id": "747e7fb8",
   "metadata": {},
   "outputs": [
    {
     "data": {
      "text/plain": [
       "Item_Identifier                 0\n",
       "Item_Weight                  1463\n",
       "Item_Fat_Content                0\n",
       "Item_Visibility                 0\n",
       "Item_Type                       0\n",
       "Item_MRP                        0\n",
       "Outlet_Identifier               0\n",
       "Outlet_Establishment_Year       0\n",
       "Outlet_Size                  2410\n",
       "Outlet_Location_Type            0\n",
       "Outlet_Type                     0\n",
       "Item_Outlet_Sales               0\n",
       "dtype: int64"
      ]
     },
     "execution_count": 14,
     "metadata": {},
     "output_type": "execute_result"
    }
   ],
   "source": [
    "#Idenfity missing values\n",
    "df.isna().sum()"
   ]
  },
  {
   "cell_type": "markdown",
   "id": "b09d641b",
   "metadata": {},
   "source": [
    "- There are missing values for item weight and outlet size."
   ]
  },
  {
   "cell_type": "code",
   "execution_count": 15,
   "id": "e02acddb",
   "metadata": {},
   "outputs": [
    {
     "data": {
      "text/plain": [
       "count    7060.000000\n",
       "mean       12.857645\n",
       "std         4.643456\n",
       "min         4.555000\n",
       "25%         8.773750\n",
       "50%        12.600000\n",
       "75%        16.850000\n",
       "max        21.350000\n",
       "Name: Item_Weight, dtype: float64"
      ]
     },
     "execution_count": 15,
     "metadata": {},
     "output_type": "execute_result"
    }
   ],
   "source": [
    "#Explore item weight statistics to determine fill value\n",
    "df['Item_Weight'].describe()"
   ]
  },
  {
   "cell_type": "markdown",
   "id": "d75d11aa",
   "metadata": {},
   "source": [
    "- Because there is not a significant difference between the mean and median values, this suggests that there are no outliers for item weight, and either value will be acceptable to fill the missing values. I will impute the median value of 12.6 into the missing values."
   ]
  },
  {
   "cell_type": "code",
   "execution_count": 16,
   "id": "201e68d6",
   "metadata": {},
   "outputs": [
    {
     "data": {
      "text/plain": [
       "0"
      ]
     },
     "execution_count": 16,
     "metadata": {},
     "output_type": "execute_result"
    }
   ],
   "source": [
    "#Fill null values with the median\n",
    "df['Item_Weight'] = df['Item_Weight'].fillna(12.6)\n",
    "#Verify the values were filled\n",
    "df['Item_Weight'].isna().sum()"
   ]
  },
  {
   "cell_type": "markdown",
   "id": "efd96fd9",
   "metadata": {},
   "source": [
    "- For outlet size, I will replace the missing values with a placeholder, 'Missing'."
   ]
  },
  {
   "cell_type": "code",
   "execution_count": 17,
   "id": "b82695c7",
   "metadata": {},
   "outputs": [
    {
     "data": {
      "text/plain": [
       "0"
      ]
     },
     "execution_count": 17,
     "metadata": {},
     "output_type": "execute_result"
    }
   ],
   "source": [
    "#Fill null values in Outlet_Size column\n",
    "df['Outlet_Size'] = df['Outlet_Size'].fillna(\"MISSING\")\n",
    "#Verify the values were filled\n",
    "df['Outlet_Size'].isna().sum()"
   ]
  },
  {
   "cell_type": "code",
   "execution_count": 18,
   "id": "c3f6409a",
   "metadata": {},
   "outputs": [
    {
     "data": {
      "text/plain": [
       "Item_Identifier              0\n",
       "Item_Weight                  0\n",
       "Item_Fat_Content             0\n",
       "Item_Visibility              0\n",
       "Item_Type                    0\n",
       "Item_MRP                     0\n",
       "Outlet_Identifier            0\n",
       "Outlet_Establishment_Year    0\n",
       "Outlet_Size                  0\n",
       "Outlet_Location_Type         0\n",
       "Outlet_Type                  0\n",
       "Item_Outlet_Sales            0\n",
       "dtype: int64"
      ]
     },
     "execution_count": 18,
     "metadata": {},
     "output_type": "execute_result"
    }
   ],
   "source": [
    "#Verify all missing values are filled\n",
    "df.isna().sum()"
   ]
  },
  {
   "cell_type": "markdown",
   "id": "49d12e1a",
   "metadata": {},
   "source": [
    "- All missing values have been imputed."
   ]
  },
  {
   "cell_type": "markdown",
   "id": "809f6b70",
   "metadata": {},
   "source": [
    "### Fix Inconsistencies"
   ]
  },
  {
   "cell_type": "code",
   "execution_count": 19,
   "id": "73e13de6",
   "metadata": {},
   "outputs": [
    {
     "name": "stdout",
     "output_type": "stream",
     "text": [
      "Value Counts for Item_Identifier\n",
      "FDW13    10\n",
      "FDG33    10\n",
      "NCY18     9\n",
      "FDD38     9\n",
      "DRE49     9\n",
      "         ..\n",
      "FDY43     1\n",
      "FDQ60     1\n",
      "FDO33     1\n",
      "DRF48     1\n",
      "FDC23     1\n",
      "Name: Item_Identifier, Length: 1559, dtype: int64\n",
      "\n",
      "\n",
      "Value Counts for Item_Fat_Content\n",
      "Low Fat    5089\n",
      "Regular    2889\n",
      "LF          316\n",
      "reg         117\n",
      "low fat     112\n",
      "Name: Item_Fat_Content, dtype: int64\n",
      "\n",
      "\n",
      "Value Counts for Item_Type\n",
      "Fruits and Vegetables    1232\n",
      "Snack Foods              1200\n",
      "Household                 910\n",
      "Frozen Foods              856\n",
      "Dairy                     682\n",
      "Canned                    649\n",
      "Baking Goods              648\n",
      "Health and Hygiene        520\n",
      "Soft Drinks               445\n",
      "Meat                      425\n",
      "Breads                    251\n",
      "Hard Drinks               214\n",
      "Others                    169\n",
      "Starchy Foods             148\n",
      "Breakfast                 110\n",
      "Seafood                    64\n",
      "Name: Item_Type, dtype: int64\n",
      "\n",
      "\n",
      "Value Counts for Outlet_Identifier\n",
      "OUT027    935\n",
      "OUT013    932\n",
      "OUT049    930\n",
      "OUT046    930\n",
      "OUT035    930\n",
      "OUT045    929\n",
      "OUT018    928\n",
      "OUT017    926\n",
      "OUT010    555\n",
      "OUT019    528\n",
      "Name: Outlet_Identifier, dtype: int64\n",
      "\n",
      "\n",
      "Value Counts for Outlet_Size\n",
      "Medium     2793\n",
      "MISSING    2410\n",
      "Small      2388\n",
      "High        932\n",
      "Name: Outlet_Size, dtype: int64\n",
      "\n",
      "\n",
      "Value Counts for Outlet_Location_Type\n",
      "Tier 3    3350\n",
      "Tier 2    2785\n",
      "Tier 1    2388\n",
      "Name: Outlet_Location_Type, dtype: int64\n",
      "\n",
      "\n",
      "Value Counts for Outlet_Type\n",
      "Supermarket Type1    5577\n",
      "Grocery Store        1083\n",
      "Supermarket Type3     935\n",
      "Supermarket Type2     928\n",
      "Name: Outlet_Type, dtype: int64\n",
      "\n",
      "\n"
     ]
    }
   ],
   "source": [
    "#Save a list of categorical variables\n",
    "cat_cols = df.select_dtypes('object').columns\n",
    "\n",
    "#Loop through each column and examine values\n",
    "for col in cat_cols:\n",
    "    print(f'Value Counts for {col}')\n",
    "    print(df[col].value_counts())\n",
    "    #Print empty line for readability\n",
    "    print('\\n')"
   ]
  },
  {
   "cell_type": "markdown",
   "id": "7aa5cd7d",
   "metadata": {},
   "source": [
    "- There are inconsistent values in the fat content column. There should only be two values: Regular and Low Fat.\n",
    "- I will also change the value 'High' in outlet size to 'Large' to better fit the other values."
   ]
  },
  {
   "cell_type": "code",
   "execution_count": 21,
   "id": "d884c7c1",
   "metadata": {},
   "outputs": [
    {
     "name": "stdout",
     "output_type": "stream",
     "text": [
      "Low Fat    5517\n",
      "Regular    3006\n",
      "Name: Item_Fat_Content, dtype: int64\n",
      "\n",
      "\n",
      "Medium     2793\n",
      "MISSING    2410\n",
      "Small      2388\n",
      "Large       932\n",
      "Name: Outlet_Size, dtype: int64\n"
     ]
    }
   ],
   "source": [
    "#Change inconsistent values in each column\n",
    "df['Item_Fat_Content'] = df['Item_Fat_Content'].replace({'LF': 'Low Fat', \n",
    "                                                         'low fat': 'Low Fat', \n",
    "                                                         'reg': 'Regular'})\n",
    "df['Outlet_Size'] = df['Outlet_Size'].replace({'High': 'Large'})\n",
    "#Verify the values\n",
    "print(df['Item_Fat_Content'].value_counts())\n",
    "print('\\n')\n",
    "print(df['Outlet_Size'].value_counts())"
   ]
  },
  {
   "cell_type": "markdown",
   "id": "4d44f903",
   "metadata": {},
   "source": [
    "- All inconsistencies have been replaced."
   ]
  },
  {
   "cell_type": "markdown",
   "id": "91de8252",
   "metadata": {},
   "source": [
    "### Check impossible values"
   ]
  },
  {
   "cell_type": "code",
   "execution_count": 22,
   "id": "a63bf6a4",
   "metadata": {},
   "outputs": [
    {
     "data": {
      "text/html": [
       "<div>\n",
       "<style scoped>\n",
       "    .dataframe tbody tr th:only-of-type {\n",
       "        vertical-align: middle;\n",
       "    }\n",
       "\n",
       "    .dataframe tbody tr th {\n",
       "        vertical-align: top;\n",
       "    }\n",
       "\n",
       "    .dataframe thead th {\n",
       "        text-align: right;\n",
       "    }\n",
       "</style>\n",
       "<table border=\"1\" class=\"dataframe\">\n",
       "  <thead>\n",
       "    <tr style=\"text-align: right;\">\n",
       "      <th></th>\n",
       "      <th>Item_Weight</th>\n",
       "      <th>Item_Visibility</th>\n",
       "      <th>Item_MRP</th>\n",
       "      <th>Outlet_Establishment_Year</th>\n",
       "      <th>Item_Outlet_Sales</th>\n",
       "    </tr>\n",
       "  </thead>\n",
       "  <tbody>\n",
       "    <tr>\n",
       "      <th>count</th>\n",
       "      <td>8523.00000</td>\n",
       "      <td>8523.000000</td>\n",
       "      <td>8523.000000</td>\n",
       "      <td>8523.000000</td>\n",
       "      <td>8523.000000</td>\n",
       "    </tr>\n",
       "    <tr>\n",
       "      <th>mean</th>\n",
       "      <td>12.81342</td>\n",
       "      <td>0.066132</td>\n",
       "      <td>140.992782</td>\n",
       "      <td>1997.831867</td>\n",
       "      <td>2181.288914</td>\n",
       "    </tr>\n",
       "    <tr>\n",
       "      <th>std</th>\n",
       "      <td>4.22724</td>\n",
       "      <td>0.051598</td>\n",
       "      <td>62.275067</td>\n",
       "      <td>8.371760</td>\n",
       "      <td>1706.499616</td>\n",
       "    </tr>\n",
       "    <tr>\n",
       "      <th>min</th>\n",
       "      <td>4.55500</td>\n",
       "      <td>0.000000</td>\n",
       "      <td>31.290000</td>\n",
       "      <td>1985.000000</td>\n",
       "      <td>33.290000</td>\n",
       "    </tr>\n",
       "    <tr>\n",
       "      <th>25%</th>\n",
       "      <td>9.31000</td>\n",
       "      <td>0.026989</td>\n",
       "      <td>93.826500</td>\n",
       "      <td>1987.000000</td>\n",
       "      <td>834.247400</td>\n",
       "    </tr>\n",
       "    <tr>\n",
       "      <th>50%</th>\n",
       "      <td>12.60000</td>\n",
       "      <td>0.053931</td>\n",
       "      <td>143.012800</td>\n",
       "      <td>1999.000000</td>\n",
       "      <td>1794.331000</td>\n",
       "    </tr>\n",
       "    <tr>\n",
       "      <th>75%</th>\n",
       "      <td>16.00000</td>\n",
       "      <td>0.094585</td>\n",
       "      <td>185.643700</td>\n",
       "      <td>2004.000000</td>\n",
       "      <td>3101.296400</td>\n",
       "    </tr>\n",
       "    <tr>\n",
       "      <th>max</th>\n",
       "      <td>21.35000</td>\n",
       "      <td>0.328391</td>\n",
       "      <td>266.888400</td>\n",
       "      <td>2009.000000</td>\n",
       "      <td>13086.964800</td>\n",
       "    </tr>\n",
       "  </tbody>\n",
       "</table>\n",
       "</div>"
      ],
      "text/plain": [
       "       Item_Weight  Item_Visibility     Item_MRP  Outlet_Establishment_Year  \\\n",
       "count   8523.00000      8523.000000  8523.000000                8523.000000   \n",
       "mean      12.81342         0.066132   140.992782                1997.831867   \n",
       "std        4.22724         0.051598    62.275067                   8.371760   \n",
       "min        4.55500         0.000000    31.290000                1985.000000   \n",
       "25%        9.31000         0.026989    93.826500                1987.000000   \n",
       "50%       12.60000         0.053931   143.012800                1999.000000   \n",
       "75%       16.00000         0.094585   185.643700                2004.000000   \n",
       "max       21.35000         0.328391   266.888400                2009.000000   \n",
       "\n",
       "       Item_Outlet_Sales  \n",
       "count        8523.000000  \n",
       "mean         2181.288914  \n",
       "std          1706.499616  \n",
       "min            33.290000  \n",
       "25%           834.247400  \n",
       "50%          1794.331000  \n",
       "75%          3101.296400  \n",
       "max         13086.964800  "
      ]
     },
     "execution_count": 22,
     "metadata": {},
     "output_type": "execute_result"
    }
   ],
   "source": [
    "#Check summary statistics for impossible values\n",
    "df.describe()"
   ]
  },
  {
   "cell_type": "markdown",
   "id": "e14e30fc",
   "metadata": {},
   "source": [
    "- There are larger sales values, but these are not likely to be impossible values. I will not explore these further, as these values also will be important for machine learning predictions."
   ]
  },
  {
   "cell_type": "markdown",
   "id": "60602ada",
   "metadata": {},
   "source": [
    "## Feature Inspection"
   ]
  },
  {
   "cell_type": "code",
   "execution_count": null,
   "id": "0d019068",
   "metadata": {},
   "outputs": [],
   "source": []
  }
 ],
 "metadata": {
  "kernelspec": {
   "display_name": "Python (dojo-env)",
   "language": "python",
   "name": "dojo-env"
  },
  "language_info": {
   "codemirror_mode": {
    "name": "ipython",
    "version": 3
   },
   "file_extension": ".py",
   "mimetype": "text/x-python",
   "name": "python",
   "nbconvert_exporter": "python",
   "pygments_lexer": "ipython3",
   "version": "3.9.15"
  },
  "toc": {
   "base_numbering": 1,
   "nav_menu": {},
   "number_sections": false,
   "sideBar": true,
   "skip_h1_title": false,
   "title_cell": "Table of Contents",
   "title_sidebar": "Contents",
   "toc_cell": false,
   "toc_position": {},
   "toc_section_display": true,
   "toc_window_display": false
  }
 },
 "nbformat": 4,
 "nbformat_minor": 5
}
